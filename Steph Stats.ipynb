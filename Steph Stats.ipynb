{
 "cells": [
  {
   "cell_type": "markdown",
   "id": "f7c01c67",
   "metadata": {},
   "source": [
    "# Observing Steph Curry's Rise to Fame"
   ]
  },
  {
   "cell_type": "markdown",
   "id": "fa0629a1",
   "metadata": {},
   "source": [
    "I wanted to analyze a file of Steph Curry and see how his stats may have improved over the years. "
   ]
  },
  {
   "cell_type": "code",
   "execution_count": 1,
   "id": "26b9f411",
   "metadata": {},
   "outputs": [],
   "source": [
    "import pandas as pd\n",
    "file = pd.read_csv(r'C:\\Users\\Chris\\Downloads\\Stephen Curry Stats.csv')\n",
    " "
   ]
  },
  {
   "cell_type": "code",
   "execution_count": 2,
   "id": "a3d557fd",
   "metadata": {},
   "outputs": [
    {
     "data": {
      "text/html": [
       "<div>\n",
       "<style scoped>\n",
       "    .dataframe tbody tr th:only-of-type {\n",
       "        vertical-align: middle;\n",
       "    }\n",
       "\n",
       "    .dataframe tbody tr th {\n",
       "        vertical-align: top;\n",
       "    }\n",
       "\n",
       "    .dataframe thead th {\n",
       "        text-align: right;\n",
       "    }\n",
       "</style>\n",
       "<table border=\"1\" class=\"dataframe\">\n",
       "  <thead>\n",
       "    <tr style=\"text-align: right;\">\n",
       "      <th></th>\n",
       "      <th>Dates</th>\n",
       "      <th>Opponent</th>\n",
       "      <th>Score</th>\n",
       "      <th>Minutes</th>\n",
       "      <th>Successful Shots</th>\n",
       "      <th>Total Shots</th>\n",
       "      <th>3 Points Succesful</th>\n",
       "      <th>Total 3 Points</th>\n",
       "      <th>Successful FT</th>\n",
       "      <th>Total FT</th>\n",
       "      <th>...</th>\n",
       "      <th>AST</th>\n",
       "      <th>BLK</th>\n",
       "      <th>STL</th>\n",
       "      <th>PF</th>\n",
       "      <th>TO</th>\n",
       "      <th>PTS</th>\n",
       "      <th>Type</th>\n",
       "      <th>Result</th>\n",
       "      <th>Score GS</th>\n",
       "      <th>Score Opponent</th>\n",
       "    </tr>\n",
       "  </thead>\n",
       "  <tbody>\n",
       "    <tr>\n",
       "      <th>0</th>\n",
       "      <td>10/28/2009</td>\n",
       "      <td>HOU</td>\n",
       "      <td>L 107-108</td>\n",
       "      <td>36</td>\n",
       "      <td>7</td>\n",
       "      <td>12</td>\n",
       "      <td>0</td>\n",
       "      <td>1</td>\n",
       "      <td>0</td>\n",
       "      <td>0</td>\n",
       "      <td>...</td>\n",
       "      <td>7</td>\n",
       "      <td>0</td>\n",
       "      <td>4</td>\n",
       "      <td>2</td>\n",
       "      <td>2</td>\n",
       "      <td>14</td>\n",
       "      <td>REGULAR SEASON STATS</td>\n",
       "      <td>L</td>\n",
       "      <td>107</td>\n",
       "      <td>108</td>\n",
       "    </tr>\n",
       "    <tr>\n",
       "      <th>1</th>\n",
       "      <td>10/30/2009</td>\n",
       "      <td>PHX</td>\n",
       "      <td>L 101-123</td>\n",
       "      <td>39</td>\n",
       "      <td>5</td>\n",
       "      <td>9</td>\n",
       "      <td>2</td>\n",
       "      <td>3</td>\n",
       "      <td>0</td>\n",
       "      <td>0</td>\n",
       "      <td>...</td>\n",
       "      <td>4</td>\n",
       "      <td>0</td>\n",
       "      <td>1</td>\n",
       "      <td>5</td>\n",
       "      <td>3</td>\n",
       "      <td>12</td>\n",
       "      <td>REGULAR SEASON STATS</td>\n",
       "      <td>L</td>\n",
       "      <td>101</td>\n",
       "      <td>123</td>\n",
       "    </tr>\n",
       "    <tr>\n",
       "      <th>2</th>\n",
       "      <td>11/4/2009</td>\n",
       "      <td>MEM</td>\n",
       "      <td>W 113-105</td>\n",
       "      <td>28</td>\n",
       "      <td>3</td>\n",
       "      <td>6</td>\n",
       "      <td>1</td>\n",
       "      <td>2</td>\n",
       "      <td>0</td>\n",
       "      <td>0</td>\n",
       "      <td>...</td>\n",
       "      <td>9</td>\n",
       "      <td>0</td>\n",
       "      <td>2</td>\n",
       "      <td>4</td>\n",
       "      <td>1</td>\n",
       "      <td>7</td>\n",
       "      <td>REGULAR SEASON STATS</td>\n",
       "      <td>W</td>\n",
       "      <td>113</td>\n",
       "      <td>105</td>\n",
       "    </tr>\n",
       "    <tr>\n",
       "      <th>3</th>\n",
       "      <td>11/6/2009</td>\n",
       "      <td>LAC</td>\n",
       "      <td>L 90-118</td>\n",
       "      <td>22</td>\n",
       "      <td>1</td>\n",
       "      <td>5</td>\n",
       "      <td>0</td>\n",
       "      <td>1</td>\n",
       "      <td>3</td>\n",
       "      <td>4</td>\n",
       "      <td>...</td>\n",
       "      <td>3</td>\n",
       "      <td>0</td>\n",
       "      <td>0</td>\n",
       "      <td>6</td>\n",
       "      <td>0</td>\n",
       "      <td>5</td>\n",
       "      <td>REGULAR SEASON STATS</td>\n",
       "      <td>L</td>\n",
       "      <td>90</td>\n",
       "      <td>118</td>\n",
       "    </tr>\n",
       "    <tr>\n",
       "      <th>4</th>\n",
       "      <td>11/8/2009</td>\n",
       "      <td>SAC</td>\n",
       "      <td>L 107-120</td>\n",
       "      <td>31</td>\n",
       "      <td>4</td>\n",
       "      <td>8</td>\n",
       "      <td>1</td>\n",
       "      <td>2</td>\n",
       "      <td>0</td>\n",
       "      <td>2</td>\n",
       "      <td>...</td>\n",
       "      <td>6</td>\n",
       "      <td>0</td>\n",
       "      <td>0</td>\n",
       "      <td>4</td>\n",
       "      <td>5</td>\n",
       "      <td>9</td>\n",
       "      <td>REGULAR SEASON STATS</td>\n",
       "      <td>L</td>\n",
       "      <td>107</td>\n",
       "      <td>120</td>\n",
       "    </tr>\n",
       "  </tbody>\n",
       "</table>\n",
       "<p>5 rows × 21 columns</p>\n",
       "</div>"
      ],
      "text/plain": [
       "        Dates Opponent      Score  Minutes  Successful Shots  Total Shots  \\\n",
       "0  10/28/2009      HOU  L 107-108       36                 7           12   \n",
       "1  10/30/2009      PHX  L 101-123       39                 5            9   \n",
       "2   11/4/2009      MEM  W 113-105       28                 3            6   \n",
       "3   11/6/2009      LAC   L 90-118       22                 1            5   \n",
       "4   11/8/2009      SAC  L 107-120       31                 4            8   \n",
       "\n",
       "   3 Points Succesful  Total 3 Points  Successful FT  Total FT  ...  AST  BLK  \\\n",
       "0                   0               1              0         0  ...    7    0   \n",
       "1                   2               3              0         0  ...    4    0   \n",
       "2                   1               2              0         0  ...    9    0   \n",
       "3                   0               1              3         4  ...    3    0   \n",
       "4                   1               2              0         2  ...    6    0   \n",
       "\n",
       "   STL  PF  TO  PTS                  Type Result Score GS  Score Opponent  \n",
       "0    4   2   2   14  REGULAR SEASON STATS      L      107             108  \n",
       "1    1   5   3   12  REGULAR SEASON STATS      L      101             123  \n",
       "2    2   4   1    7  REGULAR SEASON STATS      W      113             105  \n",
       "3    0   6   0    5  REGULAR SEASON STATS      L       90             118  \n",
       "4    0   4   5    9  REGULAR SEASON STATS      L      107             120  \n",
       "\n",
       "[5 rows x 21 columns]"
      ]
     },
     "execution_count": 2,
     "metadata": {},
     "output_type": "execute_result"
    }
   ],
   "source": [
    "file.head()"
   ]
  },
  {
   "cell_type": "code",
   "execution_count": 3,
   "id": "2ea19250",
   "metadata": {
    "scrolled": false
   },
   "outputs": [
    {
     "data": {
      "text/html": [
       "<div>\n",
       "<style scoped>\n",
       "    .dataframe tbody tr th:only-of-type {\n",
       "        vertical-align: middle;\n",
       "    }\n",
       "\n",
       "    .dataframe tbody tr th {\n",
       "        vertical-align: top;\n",
       "    }\n",
       "\n",
       "    .dataframe thead th {\n",
       "        text-align: right;\n",
       "    }\n",
       "</style>\n",
       "<table border=\"1\" class=\"dataframe\">\n",
       "  <thead>\n",
       "    <tr style=\"text-align: right;\">\n",
       "      <th></th>\n",
       "      <th>Dates</th>\n",
       "      <th>Score</th>\n",
       "      <th>Minutes</th>\n",
       "      <th>PTS</th>\n",
       "      <th>REB</th>\n",
       "      <th>AST</th>\n",
       "      <th>Result</th>\n",
       "    </tr>\n",
       "  </thead>\n",
       "  <tbody>\n",
       "    <tr>\n",
       "      <th>0</th>\n",
       "      <td>10/28/2009</td>\n",
       "      <td>L 107-108</td>\n",
       "      <td>36</td>\n",
       "      <td>14</td>\n",
       "      <td>2</td>\n",
       "      <td>7</td>\n",
       "      <td>L</td>\n",
       "    </tr>\n",
       "    <tr>\n",
       "      <th>1</th>\n",
       "      <td>10/30/2009</td>\n",
       "      <td>L 101-123</td>\n",
       "      <td>39</td>\n",
       "      <td>12</td>\n",
       "      <td>2</td>\n",
       "      <td>4</td>\n",
       "      <td>L</td>\n",
       "    </tr>\n",
       "    <tr>\n",
       "      <th>2</th>\n",
       "      <td>11/4/2009</td>\n",
       "      <td>W 113-105</td>\n",
       "      <td>28</td>\n",
       "      <td>7</td>\n",
       "      <td>5</td>\n",
       "      <td>9</td>\n",
       "      <td>W</td>\n",
       "    </tr>\n",
       "    <tr>\n",
       "      <th>3</th>\n",
       "      <td>11/6/2009</td>\n",
       "      <td>L 90-118</td>\n",
       "      <td>22</td>\n",
       "      <td>5</td>\n",
       "      <td>1</td>\n",
       "      <td>3</td>\n",
       "      <td>L</td>\n",
       "    </tr>\n",
       "    <tr>\n",
       "      <th>4</th>\n",
       "      <td>11/8/2009</td>\n",
       "      <td>L 107-120</td>\n",
       "      <td>31</td>\n",
       "      <td>9</td>\n",
       "      <td>4</td>\n",
       "      <td>6</td>\n",
       "      <td>L</td>\n",
       "    </tr>\n",
       "    <tr>\n",
       "      <th>...</th>\n",
       "      <td>...</td>\n",
       "      <td>...</td>\n",
       "      <td>...</td>\n",
       "      <td>...</td>\n",
       "      <td>...</td>\n",
       "      <td>...</td>\n",
       "      <td>...</td>\n",
       "    </tr>\n",
       "    <tr>\n",
       "      <th>873</th>\n",
       "      <td>10/22/2018</td>\n",
       "      <td>W 123-103</td>\n",
       "      <td>30</td>\n",
       "      <td>29</td>\n",
       "      <td>4</td>\n",
       "      <td>8</td>\n",
       "      <td>W</td>\n",
       "    </tr>\n",
       "    <tr>\n",
       "      <th>874</th>\n",
       "      <td>10/24/2018</td>\n",
       "      <td>W 144-122</td>\n",
       "      <td>32</td>\n",
       "      <td>51</td>\n",
       "      <td>4</td>\n",
       "      <td>3</td>\n",
       "      <td>W</td>\n",
       "    </tr>\n",
       "    <tr>\n",
       "      <th>875</th>\n",
       "      <td>10/26/2018</td>\n",
       "      <td>W 128-100</td>\n",
       "      <td>33</td>\n",
       "      <td>29</td>\n",
       "      <td>4</td>\n",
       "      <td>2</td>\n",
       "      <td>W</td>\n",
       "    </tr>\n",
       "    <tr>\n",
       "      <th>876</th>\n",
       "      <td>10/28/2018</td>\n",
       "      <td>W 120-114</td>\n",
       "      <td>36</td>\n",
       "      <td>35</td>\n",
       "      <td>7</td>\n",
       "      <td>3</td>\n",
       "      <td>W</td>\n",
       "    </tr>\n",
       "    <tr>\n",
       "      <th>877</th>\n",
       "      <td>10/29/2018</td>\n",
       "      <td>W 149-124</td>\n",
       "      <td>25</td>\n",
       "      <td>23</td>\n",
       "      <td>8</td>\n",
       "      <td>5</td>\n",
       "      <td>W</td>\n",
       "    </tr>\n",
       "  </tbody>\n",
       "</table>\n",
       "<p>878 rows × 7 columns</p>\n",
       "</div>"
      ],
      "text/plain": [
       "          Dates      Score  Minutes  PTS  REB  AST Result\n",
       "0    10/28/2009  L 107-108       36   14    2    7      L\n",
       "1    10/30/2009  L 101-123       39   12    2    4      L\n",
       "2     11/4/2009  W 113-105       28    7    5    9      W\n",
       "3     11/6/2009   L 90-118       22    5    1    3      L\n",
       "4     11/8/2009  L 107-120       31    9    4    6      L\n",
       "..          ...        ...      ...  ...  ...  ...    ...\n",
       "873  10/22/2018  W 123-103       30   29    4    8      W\n",
       "874  10/24/2018  W 144-122       32   51    4    3      W\n",
       "875  10/26/2018  W 128-100       33   29    4    2      W\n",
       "876  10/28/2018  W 120-114       36   35    7    3      W\n",
       "877  10/29/2018  W 149-124       25   23    8    5      W\n",
       "\n",
       "[878 rows x 7 columns]"
      ]
     },
     "execution_count": 3,
     "metadata": {},
     "output_type": "execute_result"
    }
   ],
   "source": [
    "clean = file[['Dates', 'Score','Minutes', 'PTS','REB','AST','Result']]\n",
    "clean"
   ]
  },
  {
   "cell_type": "code",
   "execution_count": 4,
   "id": "9929e703",
   "metadata": {},
   "outputs": [
    {
     "name": "stderr",
     "output_type": "stream",
     "text": [
      "C:\\Users\\Chris\\anaconda3\\lib\\site-packages\\pandas\\core\\indexing.py:1817: SettingWithCopyWarning: \n",
      "A value is trying to be set on a copy of a slice from a DataFrame.\n",
      "Try using .loc[row_indexer,col_indexer] = value instead\n",
      "\n",
      "See the caveats in the documentation: https://pandas.pydata.org/pandas-docs/stable/user_guide/indexing.html#returning-a-view-versus-a-copy\n",
      "  self._setitem_single_column(loc, value, pi)\n"
     ]
    }
   ],
   "source": [
    "import datetime as dt\n",
    "string = \"%M/%d/%Y\"\n",
    "\n",
    "for index in clean.index:\n",
    "    date = clean.loc[index,'Dates']\n",
    "    year = dt.datetime.strptime(date, string).strftime(\"%Y\")\n",
    "    clean.loc[index,'Dates'] = year"
   ]
  },
  {
   "cell_type": "code",
   "execution_count": 5,
   "id": "5a663b68",
   "metadata": {},
   "outputs": [],
   "source": [
    "first_season = clean[clean['Dates'] == '2009']"
   ]
  },
  {
   "cell_type": "code",
   "execution_count": 6,
   "id": "3a07d8af",
   "metadata": {
    "scrolled": true
   },
   "outputs": [
    {
     "data": {
      "text/html": [
       "<div>\n",
       "<style scoped>\n",
       "    .dataframe tbody tr th:only-of-type {\n",
       "        vertical-align: middle;\n",
       "    }\n",
       "\n",
       "    .dataframe tbody tr th {\n",
       "        vertical-align: top;\n",
       "    }\n",
       "\n",
       "    .dataframe thead th {\n",
       "        text-align: right;\n",
       "    }\n",
       "</style>\n",
       "<table border=\"1\" class=\"dataframe\">\n",
       "  <thead>\n",
       "    <tr style=\"text-align: right;\">\n",
       "      <th></th>\n",
       "      <th>Dates</th>\n",
       "      <th>Score</th>\n",
       "      <th>Minutes</th>\n",
       "      <th>PTS</th>\n",
       "      <th>REB</th>\n",
       "      <th>AST</th>\n",
       "      <th>Result</th>\n",
       "    </tr>\n",
       "  </thead>\n",
       "  <tbody>\n",
       "    <tr>\n",
       "      <th>0</th>\n",
       "      <td>2009</td>\n",
       "      <td>L 107-108</td>\n",
       "      <td>36</td>\n",
       "      <td>14</td>\n",
       "      <td>2</td>\n",
       "      <td>7</td>\n",
       "      <td>L</td>\n",
       "    </tr>\n",
       "    <tr>\n",
       "      <th>1</th>\n",
       "      <td>2009</td>\n",
       "      <td>L 101-123</td>\n",
       "      <td>39</td>\n",
       "      <td>12</td>\n",
       "      <td>2</td>\n",
       "      <td>4</td>\n",
       "      <td>L</td>\n",
       "    </tr>\n",
       "    <tr>\n",
       "      <th>2</th>\n",
       "      <td>2009</td>\n",
       "      <td>W 113-105</td>\n",
       "      <td>28</td>\n",
       "      <td>7</td>\n",
       "      <td>5</td>\n",
       "      <td>9</td>\n",
       "      <td>W</td>\n",
       "    </tr>\n",
       "    <tr>\n",
       "      <th>3</th>\n",
       "      <td>2009</td>\n",
       "      <td>L 90-118</td>\n",
       "      <td>22</td>\n",
       "      <td>5</td>\n",
       "      <td>1</td>\n",
       "      <td>3</td>\n",
       "      <td>L</td>\n",
       "    </tr>\n",
       "    <tr>\n",
       "      <th>4</th>\n",
       "      <td>2009</td>\n",
       "      <td>L 107-120</td>\n",
       "      <td>31</td>\n",
       "      <td>9</td>\n",
       "      <td>4</td>\n",
       "      <td>6</td>\n",
       "      <td>L</td>\n",
       "    </tr>\n",
       "  </tbody>\n",
       "</table>\n",
       "</div>"
      ],
      "text/plain": [
       "  Dates      Score  Minutes  PTS  REB  AST Result\n",
       "0  2009  L 107-108       36   14    2    7      L\n",
       "1  2009  L 101-123       39   12    2    4      L\n",
       "2  2009  W 113-105       28    7    5    9      W\n",
       "3  2009   L 90-118       22    5    1    3      L\n",
       "4  2009  L 107-120       31    9    4    6      L"
      ]
     },
     "execution_count": 6,
     "metadata": {},
     "output_type": "execute_result"
    }
   ],
   "source": [
    "first_season.head()"
   ]
  },
  {
   "cell_type": "markdown",
   "id": "59b12063",
   "metadata": {},
   "source": [
    "# Visualization"
   ]
  },
  {
   "cell_type": "markdown",
   "id": "a6b9de66",
   "metadata": {},
   "source": [
    "Now that we have some clean data for the 2009 season, let's look at his stats."
   ]
  },
  {
   "cell_type": "code",
   "execution_count": 7,
   "id": "691f11f6",
   "metadata": {},
   "outputs": [],
   "source": [
    "import seaborn as sns"
   ]
  },
  {
   "cell_type": "code",
   "execution_count": 8,
   "id": "bd6496a3",
   "metadata": {
    "scrolled": true
   },
   "outputs": [
    {
     "data": {
      "text/plain": [
       "<seaborn.axisgrid.FacetGrid at 0x246e924a2b0>"
      ]
     },
     "execution_count": 8,
     "metadata": {},
     "output_type": "execute_result"
    },
    {
     "data": {
      "image/png": "[encoded data removed]",
      "text/plain": [
       "<Figure size 360x360 with 1 Axes>"
      ]
     },
     "metadata": {
      "needs_background": "light"
     },
     "output_type": "display_data"
    }
   ],
   "source": [
    "sns.relplot(x=\"Dates\", y=\"PTS\",\n",
    "            data=clean) #"
   ]
  },
  {
   "cell_type": "markdown",
   "id": "859a308e",
   "metadata": {},
   "source": [
    "I thought this was kind of interesting, but not super reliable, so I made a box chart as well, which I think shows the consistency a bit better, and we can see that 2017 was his best season throughout 2009 - 2018"
   ]
  },
  {
   "cell_type": "code",
   "execution_count": 9,
   "id": "14c2e7a7",
   "metadata": {
    "scrolled": true
   },
   "outputs": [
    {
     "data": {
      "text/plain": [
       "<seaborn.axisgrid.FacetGrid at 0x246ec728ac0>"
      ]
     },
     "execution_count": 9,
     "metadata": {},
     "output_type": "execute_result"
    },
    {
     "data": {
      "image/png": "[encoded data removed]",
      "text/plain": [
       "<Figure size 360x360 with 1 Axes>"
      ]
     },
     "metadata": {
      "needs_background": "light"
     },
     "output_type": "display_data"
    }
   ],
   "source": [
    "sns.catplot(x = 'Dates', y = 'PTS', data = clean, kind = 'box')"
   ]
  },
  {
   "cell_type": "markdown",
   "id": "cba8ca81",
   "metadata": {},
   "source": [
    "But this also includes games where he didn't play, let's get rid of those and see what happens"
   ]
  },
  {
   "cell_type": "code",
   "execution_count": 10,
   "id": "d9cb2444",
   "metadata": {},
   "outputs": [],
   "source": [
    "played_games = clean[clean['Minutes'] != 0]"
   ]
  },
  {
   "cell_type": "code",
   "execution_count": 11,
   "id": "24e242be",
   "metadata": {},
   "outputs": [
    {
     "data": {
      "text/plain": [
       "<seaborn.axisgrid.FacetGrid at 0x246e920fb20>"
      ]
     },
     "execution_count": 11,
     "metadata": {},
     "output_type": "execute_result"
    },
    {
     "data": {
      "image/png": "[encoded data removed]",
      "text/plain": [
       "<Figure size 360x360 with 1 Axes>"
      ]
     },
     "metadata": {
      "needs_background": "light"
     },
     "output_type": "display_data"
    }
   ],
   "source": [
    "sns.catplot(x = 'Dates', y = 'PTS', data = played_games, kind = 'box')"
   ]
  },
  {
   "cell_type": "markdown",
   "id": "ca56dcda",
   "metadata": {},
   "source": [
    "This dramatically helps the 2012 season because Steph missed 32 games because of a sprained ligament in his foot."
   ]
  },
  {
   "cell_type": "markdown",
   "id": "86a8316b",
   "metadata": {},
   "source": [
    "# Other Data Set"
   ]
  },
  {
   "cell_type": "code",
   "execution_count": 12,
   "id": "546089a9",
   "metadata": {},
   "outputs": [],
   "source": [
    "file_2 = pd.read_csv(r'C:\\Users\\Chris\\Downloads\\archive\\Stephen Curry Stats.csv')"
   ]
  },
  {
   "cell_type": "code",
   "execution_count": 13,
   "id": "4708941b",
   "metadata": {},
   "outputs": [
    {
     "data": {
      "text/html": [
       "<div>\n",
       "<style scoped>\n",
       "    .dataframe tbody tr th:only-of-type {\n",
       "        vertical-align: middle;\n",
       "    }\n",
       "\n",
       "    .dataframe tbody tr th {\n",
       "        vertical-align: top;\n",
       "    }\n",
       "\n",
       "    .dataframe thead th {\n",
       "        text-align: right;\n",
       "    }\n",
       "</style>\n",
       "<table border=\"1\" class=\"dataframe\">\n",
       "  <thead>\n",
       "    <tr style=\"text-align: right;\">\n",
       "      <th></th>\n",
       "      <th>Season_year</th>\n",
       "      <th>Season_div</th>\n",
       "      <th>Date</th>\n",
       "      <th>OPP</th>\n",
       "      <th>Result</th>\n",
       "      <th>T Score</th>\n",
       "      <th>O Score</th>\n",
       "      <th>MIN</th>\n",
       "      <th>FG</th>\n",
       "      <th>FGM</th>\n",
       "      <th>...</th>\n",
       "      <th>FTM</th>\n",
       "      <th>FTA</th>\n",
       "      <th>FT%</th>\n",
       "      <th>REB</th>\n",
       "      <th>AST</th>\n",
       "      <th>BLK</th>\n",
       "      <th>STL</th>\n",
       "      <th>PF</th>\n",
       "      <th>TO</th>\n",
       "      <th>PTS</th>\n",
       "    </tr>\n",
       "  </thead>\n",
       "  <tbody>\n",
       "    <tr>\n",
       "      <th>0</th>\n",
       "      <td>2009-2010</td>\n",
       "      <td>Regular</td>\n",
       "      <td>Wed 4/14</td>\n",
       "      <td>POR</td>\n",
       "      <td>W</td>\n",
       "      <td>122</td>\n",
       "      <td>116</td>\n",
       "      <td>48.0</td>\n",
       "      <td>13-25</td>\n",
       "      <td>13</td>\n",
       "      <td>...</td>\n",
       "      <td>12</td>\n",
       "      <td>12</td>\n",
       "      <td>100.0</td>\n",
       "      <td>9</td>\n",
       "      <td>8</td>\n",
       "      <td>1</td>\n",
       "      <td>2</td>\n",
       "      <td>0</td>\n",
       "      <td>2</td>\n",
       "      <td>42</td>\n",
       "    </tr>\n",
       "    <tr>\n",
       "      <th>1</th>\n",
       "      <td>2009-2010</td>\n",
       "      <td>Regular</td>\n",
       "      <td>Tue 4/13</td>\n",
       "      <td>UTA</td>\n",
       "      <td>L</td>\n",
       "      <td>94</td>\n",
       "      <td>103</td>\n",
       "      <td>41.0</td>\n",
       "      <td>5-15</td>\n",
       "      <td>5</td>\n",
       "      <td>...</td>\n",
       "      <td>6</td>\n",
       "      <td>6</td>\n",
       "      <td>100.0</td>\n",
       "      <td>5</td>\n",
       "      <td>6</td>\n",
       "      <td>0</td>\n",
       "      <td>2</td>\n",
       "      <td>4</td>\n",
       "      <td>2</td>\n",
       "      <td>17</td>\n",
       "    </tr>\n",
       "    <tr>\n",
       "      <th>2</th>\n",
       "      <td>2009-2010</td>\n",
       "      <td>Regular</td>\n",
       "      <td>Sun 4/11</td>\n",
       "      <td>OKC</td>\n",
       "      <td>W</td>\n",
       "      <td>120</td>\n",
       "      <td>117</td>\n",
       "      <td>35.0</td>\n",
       "      <td>9-16</td>\n",
       "      <td>9</td>\n",
       "      <td>...</td>\n",
       "      <td>4</td>\n",
       "      <td>6</td>\n",
       "      <td>66.7</td>\n",
       "      <td>7</td>\n",
       "      <td>7</td>\n",
       "      <td>0</td>\n",
       "      <td>1</td>\n",
       "      <td>2</td>\n",
       "      <td>5</td>\n",
       "      <td>25</td>\n",
       "    </tr>\n",
       "    <tr>\n",
       "      <th>3</th>\n",
       "      <td>2009-2010</td>\n",
       "      <td>Regular</td>\n",
       "      <td>Sat 4/10</td>\n",
       "      <td>LAC</td>\n",
       "      <td>L</td>\n",
       "      <td>104</td>\n",
       "      <td>107</td>\n",
       "      <td>41.0</td>\n",
       "      <td>10-19</td>\n",
       "      <td>10</td>\n",
       "      <td>...</td>\n",
       "      <td>4</td>\n",
       "      <td>4</td>\n",
       "      <td>100.0</td>\n",
       "      <td>9</td>\n",
       "      <td>4</td>\n",
       "      <td>0</td>\n",
       "      <td>3</td>\n",
       "      <td>5</td>\n",
       "      <td>3</td>\n",
       "      <td>29</td>\n",
       "    </tr>\n",
       "    <tr>\n",
       "      <th>4</th>\n",
       "      <td>2009-2010</td>\n",
       "      <td>Regular</td>\n",
       "      <td>Wed 4/7</td>\n",
       "      <td>MIN</td>\n",
       "      <td>W</td>\n",
       "      <td>116</td>\n",
       "      <td>107</td>\n",
       "      <td>44.0</td>\n",
       "      <td>12-22</td>\n",
       "      <td>12</td>\n",
       "      <td>...</td>\n",
       "      <td>0</td>\n",
       "      <td>0</td>\n",
       "      <td>0.0</td>\n",
       "      <td>8</td>\n",
       "      <td>14</td>\n",
       "      <td>0</td>\n",
       "      <td>7</td>\n",
       "      <td>4</td>\n",
       "      <td>4</td>\n",
       "      <td>27</td>\n",
       "    </tr>\n",
       "  </tbody>\n",
       "</table>\n",
       "<p>5 rows × 27 columns</p>\n",
       "</div>"
      ],
      "text/plain": [
       "  Season_year Season_div      Date  OPP Result  T Score  O Score   MIN     FG  \\\n",
       "0   2009-2010    Regular  Wed 4/14  POR      W      122      116  48.0  13-25   \n",
       "1   2009-2010    Regular  Tue 4/13  UTA      L       94      103  41.0   5-15   \n",
       "2   2009-2010    Regular  Sun 4/11  OKC      W      120      117  35.0   9-16   \n",
       "3   2009-2010    Regular  Sat 4/10  LAC      L      104      107  41.0  10-19   \n",
       "4   2009-2010    Regular   Wed 4/7  MIN      W      116      107  44.0  12-22   \n",
       "\n",
       "   FGM  ...  FTM  FTA    FT%  REB  AST  BLK STL  PF  TO  PTS  \n",
       "0   13  ...   12   12  100.0    9    8    1   2   0   2   42  \n",
       "1    5  ...    6    6  100.0    5    6    0   2   4   2   17  \n",
       "2    9  ...    4    6   66.7    7    7    0   1   2   5   25  \n",
       "3   10  ...    4    4  100.0    9    4    0   3   5   3   29  \n",
       "4   12  ...    0    0    0.0    8   14    0   7   4   4   27  \n",
       "\n",
       "[5 rows x 27 columns]"
      ]
     },
     "execution_count": 13,
     "metadata": {},
     "output_type": "execute_result"
    }
   ],
   "source": [
    "file_2.head()"
   ]
  },
  {
   "cell_type": "code",
   "execution_count": 16,
   "id": "3c3bcd2d",
   "metadata": {},
   "outputs": [],
   "source": [
    "clean_again = file_2[['Season_year', 'PTS','REB', 'AST','3P%','Season_div','MIN','Result']]"
   ]
  },
  {
   "cell_type": "code",
   "execution_count": 18,
   "id": "106bfd6e",
   "metadata": {
    "scrolled": true
   },
   "outputs": [
    {
     "data": {
      "text/html": [
       "<div>\n",
       "<style scoped>\n",
       "    .dataframe tbody tr th:only-of-type {\n",
       "        vertical-align: middle;\n",
       "    }\n",
       "\n",
       "    .dataframe tbody tr th {\n",
       "        vertical-align: top;\n",
       "    }\n",
       "\n",
       "    .dataframe thead th {\n",
       "        text-align: right;\n",
       "    }\n",
       "</style>\n",
       "<table border=\"1\" class=\"dataframe\">\n",
       "  <thead>\n",
       "    <tr style=\"text-align: right;\">\n",
       "      <th></th>\n",
       "      <th>Season_year</th>\n",
       "      <th>PTS</th>\n",
       "      <th>REB</th>\n",
       "      <th>AST</th>\n",
       "      <th>3P%</th>\n",
       "      <th>Season_div</th>\n",
       "      <th>MIN</th>\n",
       "      <th>Result</th>\n",
       "    </tr>\n",
       "  </thead>\n",
       "  <tbody>\n",
       "    <tr>\n",
       "      <th>0</th>\n",
       "      <td>2009-2010</td>\n",
       "      <td>42</td>\n",
       "      <td>9</td>\n",
       "      <td>8</td>\n",
       "      <td>66.7</td>\n",
       "      <td>Regular</td>\n",
       "      <td>48.0</td>\n",
       "      <td>W</td>\n",
       "    </tr>\n",
       "    <tr>\n",
       "      <th>1</th>\n",
       "      <td>2009-2010</td>\n",
       "      <td>17</td>\n",
       "      <td>5</td>\n",
       "      <td>6</td>\n",
       "      <td>25.0</td>\n",
       "      <td>Regular</td>\n",
       "      <td>41.0</td>\n",
       "      <td>L</td>\n",
       "    </tr>\n",
       "    <tr>\n",
       "      <th>2</th>\n",
       "      <td>2009-2010</td>\n",
       "      <td>25</td>\n",
       "      <td>7</td>\n",
       "      <td>7</td>\n",
       "      <td>50.0</td>\n",
       "      <td>Regular</td>\n",
       "      <td>35.0</td>\n",
       "      <td>W</td>\n",
       "    </tr>\n",
       "    <tr>\n",
       "      <th>3</th>\n",
       "      <td>2009-2010</td>\n",
       "      <td>29</td>\n",
       "      <td>9</td>\n",
       "      <td>4</td>\n",
       "      <td>50.0</td>\n",
       "      <td>Regular</td>\n",
       "      <td>41.0</td>\n",
       "      <td>L</td>\n",
       "    </tr>\n",
       "    <tr>\n",
       "      <th>4</th>\n",
       "      <td>2009-2010</td>\n",
       "      <td>27</td>\n",
       "      <td>8</td>\n",
       "      <td>14</td>\n",
       "      <td>60.0</td>\n",
       "      <td>Regular</td>\n",
       "      <td>44.0</td>\n",
       "      <td>W</td>\n",
       "    </tr>\n",
       "  </tbody>\n",
       "</table>\n",
       "</div>"
      ],
      "text/plain": [
       "  Season_year  PTS  REB  AST   3P% Season_div   MIN Result\n",
       "0   2009-2010   42    9    8  66.7    Regular  48.0      W\n",
       "1   2009-2010   17    5    6  25.0    Regular  41.0      L\n",
       "2   2009-2010   25    7    7  50.0    Regular  35.0      W\n",
       "3   2009-2010   29    9    4  50.0    Regular  41.0      L\n",
       "4   2009-2010   27    8   14  60.0    Regular  44.0      W"
      ]
     },
     "execution_count": 18,
     "metadata": {},
     "output_type": "execute_result"
    }
   ],
   "source": [
    "clean_again.head()"
   ]
  },
  {
   "cell_type": "code",
   "execution_count": 19,
   "id": "dc79f52d",
   "metadata": {},
   "outputs": [],
   "source": [
    "play = clean_again[clean_again['MIN'] != 0]"
   ]
  },
  {
   "cell_type": "code",
   "execution_count": 20,
   "id": "509195cc",
   "metadata": {},
   "outputs": [
    {
     "data": {
      "text/plain": [
       "<seaborn.axisgrid.FacetGrid at 0x246ebfabaf0>"
      ]
     },
     "execution_count": 20,
     "metadata": {},
     "output_type": "execute_result"
    },
    {
     "data": {
      "image/png": "[encoded data removed]",
      "text/plain": [
       "<Figure size 360x360 with 1 Axes>"
      ]
     },
     "metadata": {
      "needs_background": "light"
     },
     "output_type": "display_data"
    }
   ],
   "source": [
    "sns.catplot(x = 'Season_year', y = 'PTS', data = play, kind = 'box')"
   ]
  }
 ],
 "metadata": {
  "kernelspec": {
   "display_name": "Python 3 (ipykernel)",
   "language": "python",
   "name": "python3"
  },
  "language_info": {
   "codemirror_mode": {
    "name": "ipython",
    "version": 3
   },
   "file_extension": ".py",
   "mimetype": "text/x-python",
   "name": "python",
   "nbconvert_exporter": "python",
   "pygments_lexer": "ipython3",
   "version": "3.9.7"
  },
  "widgets": {
   "application/vnd.jupyter.widget-state+json": {
    "state": {},
    "version_major": 2,
    "version_minor": 0
   }
  }
 },
 "nbformat": 4,
 "nbformat_minor": 5
}
