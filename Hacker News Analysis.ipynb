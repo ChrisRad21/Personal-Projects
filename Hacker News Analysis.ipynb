{
 "cells": [
  {
   "cell_type": "markdown",
   "metadata": {
    "collapsed": true
   },
   "source": [
    "## Analyzing Hacker News Posts"
   ]
  },
  {
   "cell_type": "markdown",
   "metadata": {},
   "source": [
    "In this project we will be analyzing Hacker News, a popular technology site where user-submitted stories receive votes and comments, similar to reddit if you've used that."
   ]
  },
  {
   "cell_type": "markdown",
   "metadata": {},
   "source": [
    "The data file we are examining has been reduced from 300,000 rows to about 20,000 rows, to remove all posts that didn't receive comments and randomly sampling from remaining submissions."
   ]
  },
  {
   "cell_type": "markdown",
   "metadata": {},
   "source": [
    "The columns are identified as follows:\n",
    "- id: Unique identifier from Hacker News for the post\n",
    "- title: The title of the post\n",
    "- url: The URL that the posts links to, if the post has a URL\n",
    "- num_points: The number of points the post acquired, calculated as the total number of upvotes minus the total number of downvotes\n",
    "- num_comments: The number of comments on the post\n",
    "- author: The username of the person who submitted the post\n",
    "- created_at: The date and time of the post's submission"
   ]
  },
  {
   "cell_type": "markdown",
   "metadata": {},
   "source": [
    "We are interested in posts that begin with either \"Ask HN\" or \"Show HN\". \n",
    "**\"Ask HN\"** simply means the poster is asking the community a certain question.\n",
    "**\"Show HN\"** is a user wanting to enlighten the community to a new product, project or something interesting. "
   ]
  },
  {
   "cell_type": "markdown",
   "metadata": {},
   "source": [
    "Our goal is to determine the answer to the following 2 questions:\n",
    "- Do Ask HN or Show HN recieve more comments on average?\n",
    "- Do posts created at a certain time receive more comments on average?"
   ]
  },
  {
   "cell_type": "markdown",
   "metadata": {},
   "source": [
    "## Reading Files\n",
    "First we begin by importing the files"
   ]
  },
  {
   "cell_type": "code",
   "execution_count": null,
   "metadata": {
    "scrolled": true
   },
   "outputs": [],
   "source": [
    "import csv\n",
    "file = open('hacker_news.csv')\n",
    "hn = list(csv.reader(file))\n",
    "hn[:5] #Gives a view on the first 5 rows"
   ]
  },
  {
   "cell_type": "markdown",
   "metadata": {},
   "source": [
    "## Removing Headers\n",
    "We will want to separate the file, into two lists with one being the variables and the other the raw data. "
   ]
  },
  {
   "cell_type": "code",
   "execution_count": null,
   "metadata": {
    "scrolled": true
   },
   "outputs": [],
   "source": [
    "headers = hn[0]\n",
    "hn = hn[1:]\n",
    "print(headers)\n",
    "print(hn[:5])"
   ]
  },
  {
   "cell_type": "markdown",
   "metadata": {},
   "source": [
    "## Quantifying Posts\n",
    "Now we have the raw data, we can easily identify which posts are \"Ask\" or \"Show\", or any other type of posts within the file. "
   ]
  },
  {
   "cell_type": "code",
   "execution_count": null,
   "metadata": {},
   "outputs": [],
   "source": [
    "ask_posts = []\n",
    "show_posts = []\n",
    "other_posts = []\n",
    "for row in hn:\n",
    "    title = row[1]\n",
    "    if title.lower().startswith('ask hn'):\n",
    "        ask_posts.append(row)\n",
    "    elif title.lower().startswith('show hn'):\n",
    "        show_posts.append(row)\n",
    "    else:\n",
    "        other_posts.append(row)"
   ]
  },
  {
   "cell_type": "code",
   "execution_count": null,
   "metadata": {
    "scrolled": true
   },
   "outputs": [],
   "source": [
    "print(\"Ask_posts has:\", len(ask_posts), \" number of posts.\")\n",
    "print(\"Show_posts has:\", len(show_posts), \" number of posts.\")\n",
    "print(\"Other_posts has:\", len(other_posts), \" number of posts.\")"
   ]
  },
  {
   "cell_type": "markdown",
   "metadata": {},
   "source": [
    "## Comparing comments \n",
    "Now we can answer one of our questions, which post category has more comments on average?"
   ]
  },
  {
   "cell_type": "code",
   "execution_count": null,
   "metadata": {},
   "outputs": [],
   "source": [
    "total_ask_comments = 0\n",
    "for post in ask_posts:\n",
    "    total_ask_comments += int(post[4])\n",
    "    \n",
    "avg_ask_comments = total_ask_comments/(len(ask_posts))\n",
    "print(\"The average number of comments on ask posts is: \", avg_ask_comments)"
   ]
  },
  {
   "cell_type": "code",
   "execution_count": null,
   "metadata": {},
   "outputs": [],
   "source": [
    "total_show_comments = 0\n",
    "for row in show_posts:\n",
    "    total_show_comments += int(row[4])\n",
    "\n",
    "avg_show_comments = total_show_comments / (len(show_posts))\n",
    "print(\"The average number of comments on show posts is: \", avg_show_comments)"
   ]
  },
  {
   "cell_type": "markdown",
   "metadata": {},
   "source": [
    "On average we see about 14 comments on ask posts, whereas there are 10 comments on show posts. This is logical because ask posts are seeking commentary on their post, whereas show posts may just seek exposing their topic to the community."
   ]
  },
  {
   "cell_type": "markdown",
   "metadata": {},
   "source": [
    "**Additional Question**\n",
    "Which post, ask or show, typically recieves more points on average?"
   ]
  },
  {
   "cell_type": "code",
   "execution_count": null,
   "metadata": {},
   "outputs": [],
   "source": [
    "total_ask_points = 0\n",
    "for row in ask_posts:\n",
    "    total_ask_points += int(row[3])\n",
    "\n",
    "ask_average_points = total_ask_points / len(ask_posts)  \n",
    "print(\"The average number of points on ask posts is: \", ask_average_points)"
   ]
  },
  {
   "cell_type": "code",
   "execution_count": null,
   "metadata": {
    "scrolled": true
   },
   "outputs": [],
   "source": [
    "total_show_points = 0\n",
    "for row in show_posts:\n",
    "    total_show_points += int(row[3])\n",
    "show_average_points = total_show_points / len(show_posts)\n",
    "print(\"The average number of points on show posts is: \", show_average_points)"
   ]
  },
  {
   "cell_type": "code",
   "execution_count": null,
   "metadata": {},
   "outputs": [],
   "source": [
    "print(\"Ask posts average a number of {:.2f} comments per post as well as {:.2f} points per post.\".format(avg_ask_comments, ask_average_points))\n",
    "print(\"\\n\")\n",
    "print(\"Show posts average a number of {:.2f} comments per post comparatively as well as {:.2f} points per post\".format(avg_show_comments, show_average_points))"
   ]
  },
  {
   "cell_type": "markdown",
   "metadata": {},
   "source": [
    "So, interestingly, show points receive more points than ask posts, even though ask points receive more comments on average. Perhaps this is because show posts are easier to understand and require less interaction. "
   ]
  },
  {
   "cell_type": "markdown",
   "metadata": {},
   "source": [
    "# Comments/Points by Hour\n",
    "Now we will start to compare the data by the time of posting. "
   ]
  },
  {
   "cell_type": "code",
   "execution_count": 39,
   "metadata": {
    "collapsed": true
   },
   "outputs": [
    {
     "name": "stdout",
     "output_type": "stream",
     "text": [
      "{'09': 251, '13': 1253, '10': 793, '14': 1416, '16': 1814, '23': 543, '12': 687, '17': 1146, '15': 4477, '21': 1745, '20': 1722, '02': 1381, '18': 1439, '03': 421, '05': 464, '19': 1188, '01': 683, '22': 479, '08': 492, '04': 337, '00': 447, '06': 397, '07': 267, '11': 641}\n",
      "{'09': 329, '13': 2062, '10': 1102, '14': 1282, '16': 2522, '23': 581, '12': 782, '17': 1941, '15': 3479, '21': 1721, '20': 1151, '02': 793, '18': 1741, '03': 374, '05': 552, '19': 1513, '01': 700, '22': 511, '08': 515, '04': 389, '00': 451, '06': 591, '07': 361, '11': 825}\n"
     ]
    }
   ],
   "source": [
    "import datetime as dt\n",
    "\n",
    "result_list = []\n",
    "for row in ask_posts:\n",
    "    result_list.append([row[6],int(row[4]), int(row[3])])\n",
    "    \n",
    "counts_by_hour = {}\n",
    "comments_by_hour = {}\n",
    "points_by_hour = {}\n",
    "\n",
    "string_parse = \"%m/%d/%Y %H:%M\"\n",
    "for row in result_list:\n",
    "    time = row[0]\n",
    "    comments = row[1]\n",
    "    points = row[2]\n",
    "    \n",
    "    hour = dt.datetime.strptime(time, string_parse).strftime(\"%H\")\n",
    "    if hour in counts_by_hour:\n",
    "        counts_by_hour[hour] += 1\n",
    "        comments_by_hour[hour] += comments\n",
    "        points_by_hour[hour] += points\n",
    "    else:\n",
    "        counts_by_hour[hour] = 1\n",
    "        comments_by_hour[hour] = comments\n",
    "        points_by_hour[hour] = points"
   ]
  },
  {
   "cell_type": "markdown",
   "metadata": {},
   "source": [
    "We now have a list of the comments per hour and counts per hour as well as points per hour, now let's compute the average comments per hour and points per hour."
   ]
  },
  {
   "cell_type": "code",
   "execution_count": 41,
   "metadata": {},
   "outputs": [
    {
     "data": {
      "text/plain": [
       "[[5.5777777777777775, '09'],\n",
       " [14.741176470588234, '13'],\n",
       " [13.440677966101696, '10'],\n",
       " [13.233644859813085, '14'],\n",
       " [16.796296296296298, '16'],\n",
       " [7.985294117647059, '23'],\n",
       " [9.41095890410959, '12'],\n",
       " [11.46, '17'],\n",
       " [38.5948275862069, '15'],\n",
       " [16.009174311926607, '21'],\n",
       " [21.525, '20'],\n",
       " [23.810344827586206, '02'],\n",
       " [13.20183486238532, '18'],\n",
       " [7.796296296296297, '03'],\n",
       " [10.08695652173913, '05'],\n",
       " [10.8, '19'],\n",
       " [11.383333333333333, '01'],\n",
       " [6.746478873239437, '22'],\n",
       " [10.25, '08'],\n",
       " [7.170212765957447, '04'],\n",
       " [8.127272727272727, '00'],\n",
       " [9.022727272727273, '06'],\n",
       " [7.852941176470588, '07'],\n",
       " [11.051724137931034, '11']]"
      ]
     },
     "execution_count": 41,
     "metadata": {},
     "output_type": "execute_result"
    }
   ],
   "source": [
    "avg_comments_by_hour = []\n",
    "for hr in comments_by_hour:\n",
    "    avg_comments_by_hour.append([comments_by_hour[hr]/ counts_by_hour[hr], hr])\n",
    "avg_comments_by_hour"
   ]
  },
  {
   "cell_type": "code",
   "execution_count": 40,
   "metadata": {},
   "outputs": [
    {
     "data": {
      "text/plain": [
       "[[7.311111111111111, '09'],\n",
       " [24.258823529411764, '13'],\n",
       " [18.677966101694917, '10'],\n",
       " [11.981308411214954, '14'],\n",
       " [23.35185185185185, '16'],\n",
       " [8.544117647058824, '23'],\n",
       " [10.712328767123287, '12'],\n",
       " [19.41, '17'],\n",
       " [29.99137931034483, '15'],\n",
       " [15.788990825688073, '21'],\n",
       " [14.3875, '20'],\n",
       " [13.672413793103448, '02'],\n",
       " [15.972477064220184, '18'],\n",
       " [6.925925925925926, '03'],\n",
       " [12.0, '05'],\n",
       " [13.754545454545454, '19'],\n",
       " [11.666666666666666, '01'],\n",
       " [7.197183098591549, '22'],\n",
       " [10.729166666666666, '08'],\n",
       " [8.27659574468085, '04'],\n",
       " [8.2, '00'],\n",
       " [13.431818181818182, '06'],\n",
       " [10.617647058823529, '07'],\n",
       " [14.224137931034482, '11']]"
      ]
     },
     "execution_count": 40,
     "metadata": {},
     "output_type": "execute_result"
    }
   ],
   "source": [
    "avg_points_by_hour = []\n",
    "for hr in points_by_hour:\n",
    "    avg_points_by_hour.append([points_by_hour[hr]/ counts_by_hour[hr], hr])\n",
    "avg_points_by_hour"
   ]
  },
  {
   "cell_type": "code",
   "execution_count": 42,
   "metadata": {},
   "outputs": [],
   "source": [
    "sorted_comments = sorted(avg_comments_by_hour, reverse = True)\n",
    "sorted_points = sorted(avg_points_by_hour, reverse = True)"
   ]
  },
  {
   "cell_type": "code",
   "execution_count": 43,
   "metadata": {
    "scrolled": true
   },
   "outputs": [
    {
     "name": "stdout",
     "output_type": "stream",
     "text": [
      "Top 5 Hours for Ask Post Comments\n",
      "15:00: 38.59 average comments per post.\n",
      "02:00: 23.81 average comments per post.\n",
      "20:00: 21.52 average comments per post.\n",
      "16:00: 16.80 average comments per post.\n",
      "21:00: 16.01 average comments per post.\n",
      "\n",
      "\n",
      "Top 5 Hours for Ask Post Points\n",
      "15:00: 29.99 average points per post.\n",
      "13:00: 24.26 average points per post.\n",
      "16:00: 23.35 average points per post.\n",
      "17:00: 19.41 average points per post.\n",
      "10:00: 18.68 average points per post.\n"
     ]
    }
   ],
   "source": [
    "print(\"Top 5 Hours for Ask Post Comments\")\n",
    "for avg,hr in sorted_comments[:5]:\n",
    "    print(\"{}: {:.2f} average comments per post.\".format(\n",
    "    dt.datetime.strptime(hr, \"%H\").strftime(\"%H:%M\"),avg) )\n",
    "print(\"\\n\")\n",
    "print(\"Top 5 Hours for Ask Post Points\")\n",
    "for avg, hr in sorted_points[:5]:\n",
    "    print(\"{}: {:.2f} average points per post.\".format(\n",
    "    dt.datetime.strptime(hr, \"%H\").strftime(\"%H:%M\"),avg) )"
   ]
  },
  {
   "cell_type": "markdown",
   "metadata": {},
   "source": [
    "Users should expect to see the most interaction with their post if they post at 3pm, as that is the best hour for average comments and points. "
   ]
  },
  {
   "cell_type": "markdown",
   "metadata": {},
   "source": [
    "# Conclusion\n",
    "With this project we set out to analyze Hacker News, and see what type of posts receive more comments, and whether or not posts created at a certain time received more comments on average. \n",
    "\n",
    "What we discovered is that Ask posts receive more comments than Show posts, which logically fits what is expected of the user posting. We also found that 3pm Ask posts contain the most comments, with 2am and 8pm falling to 2nd and 3rd most common commenting time periods. "
   ]
  }
 ],
 "metadata": {
  "kernelspec": {
   "display_name": "Python 3",
   "language": "python",
   "name": "python3"
  },
  "language_info": {
   "codemirror_mode": {
    "name": "ipython",
    "version": 3
   },
   "file_extension": ".py",
   "mimetype": "text/x-python",
   "name": "python",
   "nbconvert_exporter": "python",
   "pygments_lexer": "ipython3",
   "version": "3.8.2"
  }
 },
 "nbformat": 4,
 "nbformat_minor": 2
}
